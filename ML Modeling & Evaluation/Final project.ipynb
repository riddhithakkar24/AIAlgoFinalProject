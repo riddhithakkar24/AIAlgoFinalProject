{
 "cells": [
  {
   "cell_type": "code",
   "execution_count": 1,
   "metadata": {},
   "outputs": [],
   "source": [
    "import pandas as pd\n",
    "import numpy as np\n",
    "import matplotlib.pyplot as plt\n",
    "import seaborn as sns\n",
    "from sklearn.linear_model import LinearRegression\n",
    "from sklearn.tree import DecisionTreeRegressor # Our DEcision Tree classifier\n",
    "from sklearn import preprocessing,svm"
   ]
  },
  {
   "cell_type": "code",
   "execution_count": 2,
   "metadata": {
    "scrolled": true
   },
   "outputs": [
    {
     "data": {
      "text/html": [
       "<div>\n",
       "<style scoped>\n",
       "    .dataframe tbody tr th:only-of-type {\n",
       "        vertical-align: middle;\n",
       "    }\n",
       "\n",
       "    .dataframe tbody tr th {\n",
       "        vertical-align: top;\n",
       "    }\n",
       "\n",
       "    .dataframe thead th {\n",
       "        text-align: right;\n",
       "    }\n",
       "</style>\n",
       "<table border=\"1\" class=\"dataframe\">\n",
       "  <thead>\n",
       "    <tr style=\"text-align: right;\">\n",
       "      <th></th>\n",
       "      <th>Date</th>\n",
       "      <th>Open</th>\n",
       "      <th>High</th>\n",
       "      <th>Low</th>\n",
       "      <th>Close</th>\n",
       "      <th>Volume</th>\n",
       "      <th>Name</th>\n",
       "    </tr>\n",
       "  </thead>\n",
       "  <tbody>\n",
       "    <tr>\n",
       "      <th>0</th>\n",
       "      <td>2006-01-03</td>\n",
       "      <td>77.76</td>\n",
       "      <td>79.35</td>\n",
       "      <td>77.24</td>\n",
       "      <td>79.11</td>\n",
       "      <td>3117200</td>\n",
       "      <td>MMM</td>\n",
       "    </tr>\n",
       "    <tr>\n",
       "      <th>1</th>\n",
       "      <td>2006-01-04</td>\n",
       "      <td>79.49</td>\n",
       "      <td>79.49</td>\n",
       "      <td>78.25</td>\n",
       "      <td>78.71</td>\n",
       "      <td>2558000</td>\n",
       "      <td>MMM</td>\n",
       "    </tr>\n",
       "    <tr>\n",
       "      <th>2</th>\n",
       "      <td>2006-01-05</td>\n",
       "      <td>78.41</td>\n",
       "      <td>78.65</td>\n",
       "      <td>77.56</td>\n",
       "      <td>77.99</td>\n",
       "      <td>2529500</td>\n",
       "      <td>MMM</td>\n",
       "    </tr>\n",
       "    <tr>\n",
       "      <th>3</th>\n",
       "      <td>2006-01-06</td>\n",
       "      <td>78.64</td>\n",
       "      <td>78.90</td>\n",
       "      <td>77.64</td>\n",
       "      <td>78.63</td>\n",
       "      <td>2479500</td>\n",
       "      <td>MMM</td>\n",
       "    </tr>\n",
       "    <tr>\n",
       "      <th>4</th>\n",
       "      <td>2006-01-09</td>\n",
       "      <td>78.50</td>\n",
       "      <td>79.83</td>\n",
       "      <td>78.46</td>\n",
       "      <td>79.02</td>\n",
       "      <td>1845600</td>\n",
       "      <td>MMM</td>\n",
       "    </tr>\n",
       "  </tbody>\n",
       "</table>\n",
       "</div>"
      ],
      "text/plain": [
       "         Date   Open   High    Low  Close   Volume Name\n",
       "0  2006-01-03  77.76  79.35  77.24  79.11  3117200  MMM\n",
       "1  2006-01-04  79.49  79.49  78.25  78.71  2558000  MMM\n",
       "2  2006-01-05  78.41  78.65  77.56  77.99  2529500  MMM\n",
       "3  2006-01-06  78.64  78.90  77.64  78.63  2479500  MMM\n",
       "4  2006-01-09  78.50  79.83  78.46  79.02  1845600  MMM"
      ]
     },
     "execution_count": 2,
     "metadata": {},
     "output_type": "execute_result"
    }
   ],
   "source": [
    "df = pd.read_csv('C:/all_stocks_2006-01-01_to_2018-01-01.csv')\n",
    "df.head()"
   ]
  },
  {
   "cell_type": "code",
   "execution_count": 3,
   "metadata": {},
   "outputs": [
    {
     "data": {
      "text/html": [
       "<div>\n",
       "<style scoped>\n",
       "    .dataframe tbody tr th:only-of-type {\n",
       "        vertical-align: middle;\n",
       "    }\n",
       "\n",
       "    .dataframe tbody tr th {\n",
       "        vertical-align: top;\n",
       "    }\n",
       "\n",
       "    .dataframe thead th {\n",
       "        text-align: right;\n",
       "    }\n",
       "</style>\n",
       "<table border=\"1\" class=\"dataframe\">\n",
       "  <thead>\n",
       "    <tr style=\"text-align: right;\">\n",
       "      <th></th>\n",
       "      <th>Open</th>\n",
       "      <th>High</th>\n",
       "      <th>Low</th>\n",
       "      <th>Close</th>\n",
       "      <th>Volume</th>\n",
       "    </tr>\n",
       "  </thead>\n",
       "  <tbody>\n",
       "    <tr>\n",
       "      <th>count</th>\n",
       "      <td>93587.000000</td>\n",
       "      <td>93602.000000</td>\n",
       "      <td>93592.000000</td>\n",
       "      <td>93612.000000</td>\n",
       "      <td>9.361200e+04</td>\n",
       "    </tr>\n",
       "    <tr>\n",
       "      <th>mean</th>\n",
       "      <td>85.623260</td>\n",
       "      <td>86.387045</td>\n",
       "      <td>84.836664</td>\n",
       "      <td>85.641753</td>\n",
       "      <td>2.015667e+07</td>\n",
       "    </tr>\n",
       "    <tr>\n",
       "      <th>std</th>\n",
       "      <td>108.151723</td>\n",
       "      <td>108.956365</td>\n",
       "      <td>107.225361</td>\n",
       "      <td>108.121106</td>\n",
       "      <td>3.442108e+07</td>\n",
       "    </tr>\n",
       "    <tr>\n",
       "      <th>min</th>\n",
       "      <td>6.750000</td>\n",
       "      <td>7.170000</td>\n",
       "      <td>0.000000</td>\n",
       "      <td>6.660000</td>\n",
       "      <td>0.000000e+00</td>\n",
       "    </tr>\n",
       "    <tr>\n",
       "      <th>25%</th>\n",
       "      <td>33.950000</td>\n",
       "      <td>34.290000</td>\n",
       "      <td>33.600000</td>\n",
       "      <td>33.960000</td>\n",
       "      <td>5.040180e+06</td>\n",
       "    </tr>\n",
       "    <tr>\n",
       "      <th>50%</th>\n",
       "      <td>60.040000</td>\n",
       "      <td>60.630000</td>\n",
       "      <td>59.490000</td>\n",
       "      <td>60.050000</td>\n",
       "      <td>9.701142e+06</td>\n",
       "    </tr>\n",
       "    <tr>\n",
       "      <th>75%</th>\n",
       "      <td>94.000000</td>\n",
       "      <td>94.740000</td>\n",
       "      <td>93.250000</td>\n",
       "      <td>94.012500</td>\n",
       "      <td>2.075222e+07</td>\n",
       "    </tr>\n",
       "    <tr>\n",
       "      <th>max</th>\n",
       "      <td>1204.880000</td>\n",
       "      <td>1213.410000</td>\n",
       "      <td>1191.150000</td>\n",
       "      <td>1195.830000</td>\n",
       "      <td>8.432640e+08</td>\n",
       "    </tr>\n",
       "  </tbody>\n",
       "</table>\n",
       "</div>"
      ],
      "text/plain": [
       "               Open          High           Low         Close        Volume\n",
       "count  93587.000000  93602.000000  93592.000000  93612.000000  9.361200e+04\n",
       "mean      85.623260     86.387045     84.836664     85.641753  2.015667e+07\n",
       "std      108.151723    108.956365    107.225361    108.121106  3.442108e+07\n",
       "min        6.750000      7.170000      0.000000      6.660000  0.000000e+00\n",
       "25%       33.950000     34.290000     33.600000     33.960000  5.040180e+06\n",
       "50%       60.040000     60.630000     59.490000     60.050000  9.701142e+06\n",
       "75%       94.000000     94.740000     93.250000     94.012500  2.075222e+07\n",
       "max     1204.880000   1213.410000   1191.150000   1195.830000  8.432640e+08"
      ]
     },
     "execution_count": 3,
     "metadata": {},
     "output_type": "execute_result"
    }
   ],
   "source": [
    "df.Date = pd.to_datetime(df.Date)\n",
    "df.describe()"
   ]
  },
  {
   "cell_type": "code",
   "execution_count": 4,
   "metadata": {},
   "outputs": [
    {
     "data": {
      "text/html": [
       "<div>\n",
       "<style scoped>\n",
       "    .dataframe tbody tr th:only-of-type {\n",
       "        vertical-align: middle;\n",
       "    }\n",
       "\n",
       "    .dataframe tbody tr th {\n",
       "        vertical-align: top;\n",
       "    }\n",
       "\n",
       "    .dataframe thead th {\n",
       "        text-align: right;\n",
       "    }\n",
       "</style>\n",
       "<table border=\"1\" class=\"dataframe\">\n",
       "  <thead>\n",
       "    <tr style=\"text-align: right;\">\n",
       "      <th></th>\n",
       "      <th>Date</th>\n",
       "      <th>Open</th>\n",
       "      <th>High</th>\n",
       "      <th>Low</th>\n",
       "      <th>Close</th>\n",
       "      <th>Volume</th>\n",
       "      <th>Name</th>\n",
       "    </tr>\n",
       "  </thead>\n",
       "  <tbody>\n",
       "    <tr>\n",
       "      <th>2913</th>\n",
       "      <td>2017-07-31</td>\n",
       "      <td>NaN</td>\n",
       "      <td>201.66</td>\n",
       "      <td>NaN</td>\n",
       "      <td>201.17</td>\n",
       "      <td>1833625</td>\n",
       "      <td>MMM</td>\n",
       "    </tr>\n",
       "    <tr>\n",
       "      <th>5933</th>\n",
       "      <td>2017-07-31</td>\n",
       "      <td>NaN</td>\n",
       "      <td>85.70</td>\n",
       "      <td>NaN</td>\n",
       "      <td>85.23</td>\n",
       "      <td>3079797</td>\n",
       "      <td>AXP</td>\n",
       "    </tr>\n",
       "    <tr>\n",
       "      <th>11972</th>\n",
       "      <td>2017-07-31</td>\n",
       "      <td>NaN</td>\n",
       "      <td>NaN</td>\n",
       "      <td>NaN</td>\n",
       "      <td>242.46</td>\n",
       "      <td>5777271</td>\n",
       "      <td>BA</td>\n",
       "    </tr>\n",
       "    <tr>\n",
       "      <th>14992</th>\n",
       "      <td>2017-07-31</td>\n",
       "      <td>NaN</td>\n",
       "      <td>NaN</td>\n",
       "      <td>NaN</td>\n",
       "      <td>113.95</td>\n",
       "      <td>4486013</td>\n",
       "      <td>CAT</td>\n",
       "    </tr>\n",
       "    <tr>\n",
       "      <th>18012</th>\n",
       "      <td>2017-07-31</td>\n",
       "      <td>NaN</td>\n",
       "      <td>110.00</td>\n",
       "      <td>NaN</td>\n",
       "      <td>109.19</td>\n",
       "      <td>7561205</td>\n",
       "      <td>CVX</td>\n",
       "    </tr>\n",
       "    <tr>\n",
       "      <th>24051</th>\n",
       "      <td>2017-07-31</td>\n",
       "      <td>NaN</td>\n",
       "      <td>NaN</td>\n",
       "      <td>45.79</td>\n",
       "      <td>45.84</td>\n",
       "      <td>13622891</td>\n",
       "      <td>KO</td>\n",
       "    </tr>\n",
       "    <tr>\n",
       "      <th>25815</th>\n",
       "      <td>2012-08-01</td>\n",
       "      <td>NaN</td>\n",
       "      <td>NaN</td>\n",
       "      <td>NaN</td>\n",
       "      <td>49.14</td>\n",
       "      <td>0</td>\n",
       "      <td>DIS</td>\n",
       "    </tr>\n",
       "    <tr>\n",
       "      <th>27071</th>\n",
       "      <td>2017-07-31</td>\n",
       "      <td>NaN</td>\n",
       "      <td>110.14</td>\n",
       "      <td>NaN</td>\n",
       "      <td>109.93</td>\n",
       "      <td>6815349</td>\n",
       "      <td>DIS</td>\n",
       "    </tr>\n",
       "    <tr>\n",
       "      <th>30091</th>\n",
       "      <td>2017-07-31</td>\n",
       "      <td>NaN</td>\n",
       "      <td>80.39</td>\n",
       "      <td>NaN</td>\n",
       "      <td>80.04</td>\n",
       "      <td>12820175</td>\n",
       "      <td>XOM</td>\n",
       "    </tr>\n",
       "    <tr>\n",
       "      <th>33111</th>\n",
       "      <td>2017-07-31</td>\n",
       "      <td>NaN</td>\n",
       "      <td>25.69</td>\n",
       "      <td>NaN</td>\n",
       "      <td>25.61</td>\n",
       "      <td>30616287</td>\n",
       "      <td>GE</td>\n",
       "    </tr>\n",
       "    <tr>\n",
       "      <th>36131</th>\n",
       "      <td>2017-07-31</td>\n",
       "      <td>NaN</td>\n",
       "      <td>225.50</td>\n",
       "      <td>NaN</td>\n",
       "      <td>225.33</td>\n",
       "      <td>1999637</td>\n",
       "      <td>GS</td>\n",
       "    </tr>\n",
       "    <tr>\n",
       "      <th>39151</th>\n",
       "      <td>2017-07-31</td>\n",
       "      <td>NaN</td>\n",
       "      <td>149.98</td>\n",
       "      <td>NaN</td>\n",
       "      <td>149.60</td>\n",
       "      <td>5253318</td>\n",
       "      <td>HD</td>\n",
       "    </tr>\n",
       "    <tr>\n",
       "      <th>42171</th>\n",
       "      <td>2017-07-31</td>\n",
       "      <td>NaN</td>\n",
       "      <td>144.93</td>\n",
       "      <td>NaN</td>\n",
       "      <td>144.67</td>\n",
       "      <td>4355718</td>\n",
       "      <td>IBM</td>\n",
       "    </tr>\n",
       "    <tr>\n",
       "      <th>48210</th>\n",
       "      <td>2017-07-31</td>\n",
       "      <td>NaN</td>\n",
       "      <td>133.58</td>\n",
       "      <td>NaN</td>\n",
       "      <td>132.72</td>\n",
       "      <td>5440788</td>\n",
       "      <td>JNJ</td>\n",
       "    </tr>\n",
       "    <tr>\n",
       "      <th>51230</th>\n",
       "      <td>2017-07-31</td>\n",
       "      <td>NaN</td>\n",
       "      <td>92.36</td>\n",
       "      <td>NaN</td>\n",
       "      <td>91.80</td>\n",
       "      <td>11520329</td>\n",
       "      <td>JPM</td>\n",
       "    </tr>\n",
       "    <tr>\n",
       "      <th>54250</th>\n",
       "      <td>2017-07-31</td>\n",
       "      <td>NaN</td>\n",
       "      <td>NaN</td>\n",
       "      <td>154.85</td>\n",
       "      <td>155.14</td>\n",
       "      <td>4280364</td>\n",
       "      <td>MCD</td>\n",
       "    </tr>\n",
       "    <tr>\n",
       "      <th>57269</th>\n",
       "      <td>2017-07-31</td>\n",
       "      <td>NaN</td>\n",
       "      <td>NaN</td>\n",
       "      <td>63.51</td>\n",
       "      <td>63.88</td>\n",
       "      <td>11714888</td>\n",
       "      <td>MRK</td>\n",
       "    </tr>\n",
       "    <tr>\n",
       "      <th>63308</th>\n",
       "      <td>2017-07-31</td>\n",
       "      <td>NaN</td>\n",
       "      <td>59.12</td>\n",
       "      <td>58.33</td>\n",
       "      <td>59.05</td>\n",
       "      <td>6225907</td>\n",
       "      <td>NKE</td>\n",
       "    </tr>\n",
       "    <tr>\n",
       "      <th>66328</th>\n",
       "      <td>2017-07-31</td>\n",
       "      <td>NaN</td>\n",
       "      <td>NaN</td>\n",
       "      <td>NaN</td>\n",
       "      <td>33.16</td>\n",
       "      <td>21982573</td>\n",
       "      <td>PFE</td>\n",
       "    </tr>\n",
       "    <tr>\n",
       "      <th>69348</th>\n",
       "      <td>2017-07-31</td>\n",
       "      <td>NaN</td>\n",
       "      <td>91.07</td>\n",
       "      <td>NaN</td>\n",
       "      <td>90.82</td>\n",
       "      <td>7835661</td>\n",
       "      <td>PG</td>\n",
       "    </tr>\n",
       "    <tr>\n",
       "      <th>72368</th>\n",
       "      <td>2017-07-31</td>\n",
       "      <td>NaN</td>\n",
       "      <td>NaN</td>\n",
       "      <td>NaN</td>\n",
       "      <td>128.09</td>\n",
       "      <td>1077258</td>\n",
       "      <td>TRV</td>\n",
       "    </tr>\n",
       "    <tr>\n",
       "      <th>75388</th>\n",
       "      <td>2017-07-31</td>\n",
       "      <td>NaN</td>\n",
       "      <td>119.34</td>\n",
       "      <td>118.44</td>\n",
       "      <td>118.57</td>\n",
       "      <td>2172327</td>\n",
       "      <td>UTX</td>\n",
       "    </tr>\n",
       "    <tr>\n",
       "      <th>78408</th>\n",
       "      <td>2017-07-31</td>\n",
       "      <td>NaN</td>\n",
       "      <td>NaN</td>\n",
       "      <td>NaN</td>\n",
       "      <td>191.81</td>\n",
       "      <td>3776476</td>\n",
       "      <td>UNH</td>\n",
       "    </tr>\n",
       "    <tr>\n",
       "      <th>81428</th>\n",
       "      <td>2017-07-31</td>\n",
       "      <td>NaN</td>\n",
       "      <td>48.57</td>\n",
       "      <td>NaN</td>\n",
       "      <td>48.40</td>\n",
       "      <td>28456827</td>\n",
       "      <td>VZ</td>\n",
       "    </tr>\n",
       "    <tr>\n",
       "      <th>84448</th>\n",
       "      <td>2017-07-31</td>\n",
       "      <td>NaN</td>\n",
       "      <td>NaN</td>\n",
       "      <td>NaN</td>\n",
       "      <td>79.99</td>\n",
       "      <td>6263189</td>\n",
       "      <td>WMT</td>\n",
       "    </tr>\n",
       "  </tbody>\n",
       "</table>\n",
       "</div>"
      ],
      "text/plain": [
       "            Date  Open    High     Low   Close    Volume Name\n",
       "2913  2017-07-31   NaN  201.66     NaN  201.17   1833625  MMM\n",
       "5933  2017-07-31   NaN   85.70     NaN   85.23   3079797  AXP\n",
       "11972 2017-07-31   NaN     NaN     NaN  242.46   5777271   BA\n",
       "14992 2017-07-31   NaN     NaN     NaN  113.95   4486013  CAT\n",
       "18012 2017-07-31   NaN  110.00     NaN  109.19   7561205  CVX\n",
       "24051 2017-07-31   NaN     NaN   45.79   45.84  13622891   KO\n",
       "25815 2012-08-01   NaN     NaN     NaN   49.14         0  DIS\n",
       "27071 2017-07-31   NaN  110.14     NaN  109.93   6815349  DIS\n",
       "30091 2017-07-31   NaN   80.39     NaN   80.04  12820175  XOM\n",
       "33111 2017-07-31   NaN   25.69     NaN   25.61  30616287   GE\n",
       "36131 2017-07-31   NaN  225.50     NaN  225.33   1999637   GS\n",
       "39151 2017-07-31   NaN  149.98     NaN  149.60   5253318   HD\n",
       "42171 2017-07-31   NaN  144.93     NaN  144.67   4355718  IBM\n",
       "48210 2017-07-31   NaN  133.58     NaN  132.72   5440788  JNJ\n",
       "51230 2017-07-31   NaN   92.36     NaN   91.80  11520329  JPM\n",
       "54250 2017-07-31   NaN     NaN  154.85  155.14   4280364  MCD\n",
       "57269 2017-07-31   NaN     NaN   63.51   63.88  11714888  MRK\n",
       "63308 2017-07-31   NaN   59.12   58.33   59.05   6225907  NKE\n",
       "66328 2017-07-31   NaN     NaN     NaN   33.16  21982573  PFE\n",
       "69348 2017-07-31   NaN   91.07     NaN   90.82   7835661   PG\n",
       "72368 2017-07-31   NaN     NaN     NaN  128.09   1077258  TRV\n",
       "75388 2017-07-31   NaN  119.34  118.44  118.57   2172327  UTX\n",
       "78408 2017-07-31   NaN     NaN     NaN  191.81   3776476  UNH\n",
       "81428 2017-07-31   NaN   48.57     NaN   48.40  28456827   VZ\n",
       "84448 2017-07-31   NaN     NaN     NaN   79.99   6263189  WMT"
      ]
     },
     "execution_count": 4,
     "metadata": {},
     "output_type": "execute_result"
    }
   ],
   "source": [
    "df.isnull().sum()\n",
    "df[df.Open.isnull()]"
   ]
  },
  {
   "cell_type": "code",
   "execution_count": 5,
   "metadata": {},
   "outputs": [
    {
     "data": {
      "text/plain": [
       "DatetimeIndex(['2006-01-02', '2006-01-16', '2006-02-20', '2006-04-14',\n",
       "               '2006-05-29', '2006-07-04', '2006-09-04', '2006-11-23',\n",
       "               '2006-12-25', '2007-01-01',\n",
       "               ...\n",
       "               '2017-01-02', '2017-01-16', '2017-02-20', '2017-04-14',\n",
       "               '2017-05-29', '2017-07-04', '2017-09-04', '2017-11-23',\n",
       "               '2017-12-25', '2018-01-01'],\n",
       "              dtype='datetime64[ns]', length=111, freq=None)"
      ]
     },
     "execution_count": 5,
     "metadata": {},
     "output_type": "execute_result"
    }
   ],
   "source": [
    "rng = pd.date_range(start='2006-01-01', end='2018-01-01', freq='B')\n",
    "rng[~rng.isin(df.Date.unique())]"
   ]
  },
  {
   "cell_type": "code",
   "execution_count": 6,
   "metadata": {},
   "outputs": [
    {
     "data": {
      "text/plain": [
       "Name\n",
       "JNJ      3020\n",
       "JPM      3020\n",
       "WMT      3020\n",
       "VZ       3020\n",
       "UTX      3020\n",
       "UNH      3020\n",
       "TRV      3020\n",
       "PG       3020\n",
       "PFE      3020\n",
       "NKE      3020\n",
       "MMM      3020\n",
       "MCD      3020\n",
       "KO       3020\n",
       "XOM      3020\n",
       "GE       3020\n",
       "IBM      3020\n",
       "HD       3020\n",
       "GS       3020\n",
       "AXP      3020\n",
       "BA       3020\n",
       "CAT      3020\n",
       "DIS      3020\n",
       "CVX      3020\n",
       "CSCO     3019\n",
       "AMZN     3019\n",
       "INTC     3019\n",
       "AAPL     3019\n",
       "MSFT     3019\n",
       "MRK      3019\n",
       "GOOGL    3019\n",
       "AABA     3019\n",
       "Name: Date, dtype: int64"
      ]
     },
     "execution_count": 6,
     "metadata": {},
     "output_type": "execute_result"
    }
   ],
   "source": [
    "df.groupby('Name').count().sort_values('Date', ascending=False)['Date']"
   ]
  },
  {
   "cell_type": "code",
   "execution_count": 7,
   "metadata": {},
   "outputs": [],
   "source": [
    "gdf = df[df.Name == 'AABA']\n",
    "cdf = df[df.Name == 'CAT']"
   ]
  },
  {
   "cell_type": "code",
   "execution_count": 8,
   "metadata": {},
   "outputs": [
    {
     "data": {
      "text/html": [
       "<div>\n",
       "<style scoped>\n",
       "    .dataframe tbody tr th:only-of-type {\n",
       "        vertical-align: middle;\n",
       "    }\n",
       "\n",
       "    .dataframe tbody tr th {\n",
       "        vertical-align: top;\n",
       "    }\n",
       "\n",
       "    .dataframe thead th {\n",
       "        text-align: right;\n",
       "    }\n",
       "</style>\n",
       "<table border=\"1\" class=\"dataframe\">\n",
       "  <thead>\n",
       "    <tr style=\"text-align: right;\">\n",
       "      <th></th>\n",
       "      <th>Date</th>\n",
       "      <th>Open</th>\n",
       "      <th>High</th>\n",
       "      <th>Low</th>\n",
       "      <th>Close</th>\n",
       "      <th>Volume</th>\n",
       "      <th>Name</th>\n",
       "    </tr>\n",
       "  </thead>\n",
       "  <tbody>\n",
       "    <tr>\n",
       "      <th>13147</th>\n",
       "      <td>2010-04-01</td>\n",
       "      <td>63.29</td>\n",
       "      <td>64.2</td>\n",
       "      <td>63.29</td>\n",
       "      <td>63.99</td>\n",
       "      <td>7830447</td>\n",
       "      <td>CAT</td>\n",
       "    </tr>\n",
       "  </tbody>\n",
       "</table>\n",
       "</div>"
      ],
      "text/plain": [
       "            Date   Open  High    Low  Close   Volume Name\n",
       "13147 2010-04-01  63.29  64.2  63.29  63.99  7830447  CAT"
      ]
     },
     "execution_count": 8,
     "metadata": {},
     "output_type": "execute_result"
    }
   ],
   "source": [
    "cdf[~cdf.Date.isin(gdf.Date)]"
   ]
  },
  {
   "cell_type": "code",
   "execution_count": 9,
   "metadata": {},
   "outputs": [
    {
     "data": {
      "text/plain": [
       "31"
      ]
     },
     "execution_count": 9,
     "metadata": {},
     "output_type": "execute_result"
    }
   ],
   "source": [
    "df.Name.unique().size\n"
   ]
  },
  {
   "cell_type": "code",
   "execution_count": 10,
   "metadata": {},
   "outputs": [
    {
     "data": {
      "text/plain": [
       "Date\n",
       "2006-01-03    31\n",
       "2006-01-04    31\n",
       "2006-01-05    31\n",
       "2006-01-06    31\n",
       "2006-01-09    31\n",
       "              ..\n",
       "2017-12-22    31\n",
       "2017-12-26    31\n",
       "2017-12-27    31\n",
       "2017-12-28    31\n",
       "2017-12-29    31\n",
       "Name: Name, Length: 3020, dtype: int64"
      ]
     },
     "execution_count": 10,
     "metadata": {},
     "output_type": "execute_result"
    }
   ],
   "source": [
    "df.groupby('Date').Name.unique().apply(len)"
   ]
  },
  {
   "cell_type": "markdown",
   "metadata": {},
   "source": [
    "## Let us first fill in the null values on date 31 july, 2017 with the values from the previous day(i.e 28th July, 2017)\n",
    "\n",
    "   "
   ]
  },
  {
   "cell_type": "code",
   "execution_count": 11,
   "metadata": {},
   "outputs": [],
   "source": [
    "df.set_index('Date', inplace=True)\n",
    "\n",
    "#Backfill `Open` column\n",
    "values = np.where(df['2017-07-31']['Open'].isnull(), df['2017-07-28']['Open'], df['2017-07-31']['Open'])\n",
    "df['2017-07-31']= df['2017-07-31'].assign(Open=values.tolist())\n",
    "\n",
    "values = np.where(df['2017-07-31']['Close'].isnull(), df['2017-07-28']['Close'], df['2017-07-31']['Close'])\n",
    "df['2017-07-31']= df['2017-07-31'].assign(Close=values.tolist())\n",
    "\n",
    "values = np.where(df['2017-07-31']['High'].isnull(), df['2017-07-28']['High'], df['2017-07-31']['High'])\n",
    "df['2017-07-31']= df['2017-07-31'].assign(High=values.tolist())\n",
    "\n",
    "values = np.where(df['2017-07-31']['Low'].isnull(), df['2017-07-28']['Low'], df['2017-07-31']['Low'])\n",
    "df['2017-07-31']= df['2017-07-31'].assign(Low=values.tolist())\n",
    "\n",
    "df.reset_index(inplace=True)"
   ]
  },
  {
   "cell_type": "code",
   "execution_count": 12,
   "metadata": {},
   "outputs": [
    {
     "data": {
      "text/html": [
       "<div>\n",
       "<style scoped>\n",
       "    .dataframe tbody tr th:only-of-type {\n",
       "        vertical-align: middle;\n",
       "    }\n",
       "\n",
       "    .dataframe tbody tr th {\n",
       "        vertical-align: top;\n",
       "    }\n",
       "\n",
       "    .dataframe thead th {\n",
       "        text-align: right;\n",
       "    }\n",
       "</style>\n",
       "<table border=\"1\" class=\"dataframe\">\n",
       "  <thead>\n",
       "    <tr style=\"text-align: right;\">\n",
       "      <th></th>\n",
       "      <th>Date</th>\n",
       "      <th>Open</th>\n",
       "      <th>High</th>\n",
       "      <th>Low</th>\n",
       "      <th>Close</th>\n",
       "      <th>Volume</th>\n",
       "      <th>Name</th>\n",
       "    </tr>\n",
       "  </thead>\n",
       "  <tbody>\n",
       "    <tr>\n",
       "      <th>2913</th>\n",
       "      <td>2017-07-31</td>\n",
       "      <td>200.79</td>\n",
       "      <td>201.66</td>\n",
       "      <td>198.69</td>\n",
       "      <td>201.17</td>\n",
       "      <td>1833625</td>\n",
       "      <td>MMM</td>\n",
       "    </tr>\n",
       "    <tr>\n",
       "      <th>5933</th>\n",
       "      <td>2017-07-31</td>\n",
       "      <td>83.88</td>\n",
       "      <td>85.70</td>\n",
       "      <td>83.62</td>\n",
       "      <td>85.23</td>\n",
       "      <td>3079797</td>\n",
       "      <td>AXP</td>\n",
       "    </tr>\n",
       "    <tr>\n",
       "      <th>8952</th>\n",
       "      <td>2017-07-31</td>\n",
       "      <td>149.90</td>\n",
       "      <td>150.33</td>\n",
       "      <td>148.13</td>\n",
       "      <td>148.73</td>\n",
       "      <td>19845920</td>\n",
       "      <td>AAPL</td>\n",
       "    </tr>\n",
       "    <tr>\n",
       "      <th>11972</th>\n",
       "      <td>2017-07-31</td>\n",
       "      <td>240.82</td>\n",
       "      <td>242.00</td>\n",
       "      <td>238.55</td>\n",
       "      <td>242.46</td>\n",
       "      <td>5777271</td>\n",
       "      <td>BA</td>\n",
       "    </tr>\n",
       "    <tr>\n",
       "      <th>14992</th>\n",
       "      <td>2017-07-31</td>\n",
       "      <td>114.45</td>\n",
       "      <td>114.90</td>\n",
       "      <td>113.48</td>\n",
       "      <td>113.95</td>\n",
       "      <td>4486013</td>\n",
       "      <td>CAT</td>\n",
       "    </tr>\n",
       "    <tr>\n",
       "      <th>18012</th>\n",
       "      <td>2017-07-31</td>\n",
       "      <td>106.71</td>\n",
       "      <td>110.00</td>\n",
       "      <td>106.36</td>\n",
       "      <td>109.19</td>\n",
       "      <td>7561205</td>\n",
       "      <td>CVX</td>\n",
       "    </tr>\n",
       "    <tr>\n",
       "      <th>21031</th>\n",
       "      <td>2017-07-31</td>\n",
       "      <td>31.54</td>\n",
       "      <td>31.59</td>\n",
       "      <td>31.37</td>\n",
       "      <td>31.45</td>\n",
       "      <td>19256428</td>\n",
       "      <td>CSCO</td>\n",
       "    </tr>\n",
       "    <tr>\n",
       "      <th>24051</th>\n",
       "      <td>2017-07-31</td>\n",
       "      <td>46.00</td>\n",
       "      <td>46.12</td>\n",
       "      <td>45.79</td>\n",
       "      <td>45.84</td>\n",
       "      <td>13622891</td>\n",
       "      <td>KO</td>\n",
       "    </tr>\n",
       "    <tr>\n",
       "      <th>27071</th>\n",
       "      <td>2017-07-31</td>\n",
       "      <td>109.98</td>\n",
       "      <td>110.14</td>\n",
       "      <td>109.66</td>\n",
       "      <td>109.93</td>\n",
       "      <td>6815349</td>\n",
       "      <td>DIS</td>\n",
       "    </tr>\n",
       "    <tr>\n",
       "      <th>30091</th>\n",
       "      <td>2017-07-31</td>\n",
       "      <td>79.65</td>\n",
       "      <td>80.39</td>\n",
       "      <td>78.27</td>\n",
       "      <td>80.04</td>\n",
       "      <td>12820175</td>\n",
       "      <td>XOM</td>\n",
       "    </tr>\n",
       "    <tr>\n",
       "      <th>33111</th>\n",
       "      <td>2017-07-31</td>\n",
       "      <td>25.86</td>\n",
       "      <td>25.69</td>\n",
       "      <td>25.40</td>\n",
       "      <td>25.61</td>\n",
       "      <td>30616287</td>\n",
       "      <td>GE</td>\n",
       "    </tr>\n",
       "    <tr>\n",
       "      <th>36131</th>\n",
       "      <td>2017-07-31</td>\n",
       "      <td>221.77</td>\n",
       "      <td>225.50</td>\n",
       "      <td>220.86</td>\n",
       "      <td>225.33</td>\n",
       "      <td>1999637</td>\n",
       "      <td>GS</td>\n",
       "    </tr>\n",
       "    <tr>\n",
       "      <th>39151</th>\n",
       "      <td>2017-07-31</td>\n",
       "      <td>147.90</td>\n",
       "      <td>149.98</td>\n",
       "      <td>147.32</td>\n",
       "      <td>149.60</td>\n",
       "      <td>5253318</td>\n",
       "      <td>HD</td>\n",
       "    </tr>\n",
       "    <tr>\n",
       "      <th>42171</th>\n",
       "      <td>2017-07-31</td>\n",
       "      <td>144.81</td>\n",
       "      <td>144.93</td>\n",
       "      <td>143.84</td>\n",
       "      <td>144.67</td>\n",
       "      <td>4355718</td>\n",
       "      <td>IBM</td>\n",
       "    </tr>\n",
       "    <tr>\n",
       "      <th>45190</th>\n",
       "      <td>2017-07-31</td>\n",
       "      <td>35.47</td>\n",
       "      <td>35.74</td>\n",
       "      <td>35.32</td>\n",
       "      <td>35.47</td>\n",
       "      <td>27056989</td>\n",
       "      <td>INTC</td>\n",
       "    </tr>\n",
       "    <tr>\n",
       "      <th>48210</th>\n",
       "      <td>2017-07-31</td>\n",
       "      <td>131.14</td>\n",
       "      <td>133.58</td>\n",
       "      <td>130.52</td>\n",
       "      <td>132.72</td>\n",
       "      <td>5440788</td>\n",
       "      <td>JNJ</td>\n",
       "    </tr>\n",
       "    <tr>\n",
       "      <th>51230</th>\n",
       "      <td>2017-07-31</td>\n",
       "      <td>91.45</td>\n",
       "      <td>92.36</td>\n",
       "      <td>90.90</td>\n",
       "      <td>91.80</td>\n",
       "      <td>11520329</td>\n",
       "      <td>JPM</td>\n",
       "    </tr>\n",
       "    <tr>\n",
       "      <th>54250</th>\n",
       "      <td>2017-07-31</td>\n",
       "      <td>156.36</td>\n",
       "      <td>156.66</td>\n",
       "      <td>154.85</td>\n",
       "      <td>155.14</td>\n",
       "      <td>4280364</td>\n",
       "      <td>MCD</td>\n",
       "    </tr>\n",
       "    <tr>\n",
       "      <th>57269</th>\n",
       "      <td>2017-07-31</td>\n",
       "      <td>63.81</td>\n",
       "      <td>64.36</td>\n",
       "      <td>63.51</td>\n",
       "      <td>63.88</td>\n",
       "      <td>11714888</td>\n",
       "      <td>MRK</td>\n",
       "    </tr>\n",
       "    <tr>\n",
       "      <th>60288</th>\n",
       "      <td>2017-07-31</td>\n",
       "      <td>73.30</td>\n",
       "      <td>73.44</td>\n",
       "      <td>72.41</td>\n",
       "      <td>72.70</td>\n",
       "      <td>23600054</td>\n",
       "      <td>MSFT</td>\n",
       "    </tr>\n",
       "    <tr>\n",
       "      <th>63308</th>\n",
       "      <td>2017-07-31</td>\n",
       "      <td>58.15</td>\n",
       "      <td>59.12</td>\n",
       "      <td>58.33</td>\n",
       "      <td>59.05</td>\n",
       "      <td>6225907</td>\n",
       "      <td>NKE</td>\n",
       "    </tr>\n",
       "    <tr>\n",
       "      <th>66328</th>\n",
       "      <td>2017-07-31</td>\n",
       "      <td>33.06</td>\n",
       "      <td>33.17</td>\n",
       "      <td>32.81</td>\n",
       "      <td>33.16</td>\n",
       "      <td>21982573</td>\n",
       "      <td>PFE</td>\n",
       "    </tr>\n",
       "    <tr>\n",
       "      <th>69348</th>\n",
       "      <td>2017-07-31</td>\n",
       "      <td>90.56</td>\n",
       "      <td>91.07</td>\n",
       "      <td>89.96</td>\n",
       "      <td>90.82</td>\n",
       "      <td>7835661</td>\n",
       "      <td>PG</td>\n",
       "    </tr>\n",
       "    <tr>\n",
       "      <th>72368</th>\n",
       "      <td>2017-07-31</td>\n",
       "      <td>126.11</td>\n",
       "      <td>127.47</td>\n",
       "      <td>125.72</td>\n",
       "      <td>128.09</td>\n",
       "      <td>1077258</td>\n",
       "      <td>TRV</td>\n",
       "    </tr>\n",
       "    <tr>\n",
       "      <th>75388</th>\n",
       "      <td>2017-07-31</td>\n",
       "      <td>118.79</td>\n",
       "      <td>119.34</td>\n",
       "      <td>118.44</td>\n",
       "      <td>118.57</td>\n",
       "      <td>2172327</td>\n",
       "      <td>UTX</td>\n",
       "    </tr>\n",
       "    <tr>\n",
       "      <th>78408</th>\n",
       "      <td>2017-07-31</td>\n",
       "      <td>189.11</td>\n",
       "      <td>191.24</td>\n",
       "      <td>187.60</td>\n",
       "      <td>191.81</td>\n",
       "      <td>3776476</td>\n",
       "      <td>UNH</td>\n",
       "    </tr>\n",
       "    <tr>\n",
       "      <th>81428</th>\n",
       "      <td>2017-07-31</td>\n",
       "      <td>47.70</td>\n",
       "      <td>48.57</td>\n",
       "      <td>47.12</td>\n",
       "      <td>48.40</td>\n",
       "      <td>28456827</td>\n",
       "      <td>VZ</td>\n",
       "    </tr>\n",
       "    <tr>\n",
       "      <th>84448</th>\n",
       "      <td>2017-07-31</td>\n",
       "      <td>79.80</td>\n",
       "      <td>79.96</td>\n",
       "      <td>79.54</td>\n",
       "      <td>79.99</td>\n",
       "      <td>6263189</td>\n",
       "      <td>WMT</td>\n",
       "    </tr>\n",
       "    <tr>\n",
       "      <th>87467</th>\n",
       "      <td>2017-07-31</td>\n",
       "      <td>960.00</td>\n",
       "      <td>961.19</td>\n",
       "      <td>941.72</td>\n",
       "      <td>945.50</td>\n",
       "      <td>2293389</td>\n",
       "      <td>GOOGL</td>\n",
       "    </tr>\n",
       "    <tr>\n",
       "      <th>90486</th>\n",
       "      <td>2017-07-31</td>\n",
       "      <td>1019.05</td>\n",
       "      <td>1019.05</td>\n",
       "      <td>987.02</td>\n",
       "      <td>987.78</td>\n",
       "      <td>7352063</td>\n",
       "      <td>AMZN</td>\n",
       "    </tr>\n",
       "    <tr>\n",
       "      <th>93505</th>\n",
       "      <td>2017-07-31</td>\n",
       "      <td>59.70</td>\n",
       "      <td>59.89</td>\n",
       "      <td>58.07</td>\n",
       "      <td>58.40</td>\n",
       "      <td>6738130</td>\n",
       "      <td>AABA</td>\n",
       "    </tr>\n",
       "  </tbody>\n",
       "</table>\n",
       "</div>"
      ],
      "text/plain": [
       "            Date     Open     High     Low   Close    Volume   Name\n",
       "2913  2017-07-31   200.79   201.66  198.69  201.17   1833625    MMM\n",
       "5933  2017-07-31    83.88    85.70   83.62   85.23   3079797    AXP\n",
       "8952  2017-07-31   149.90   150.33  148.13  148.73  19845920   AAPL\n",
       "11972 2017-07-31   240.82   242.00  238.55  242.46   5777271     BA\n",
       "14992 2017-07-31   114.45   114.90  113.48  113.95   4486013    CAT\n",
       "18012 2017-07-31   106.71   110.00  106.36  109.19   7561205    CVX\n",
       "21031 2017-07-31    31.54    31.59   31.37   31.45  19256428   CSCO\n",
       "24051 2017-07-31    46.00    46.12   45.79   45.84  13622891     KO\n",
       "27071 2017-07-31   109.98   110.14  109.66  109.93   6815349    DIS\n",
       "30091 2017-07-31    79.65    80.39   78.27   80.04  12820175    XOM\n",
       "33111 2017-07-31    25.86    25.69   25.40   25.61  30616287     GE\n",
       "36131 2017-07-31   221.77   225.50  220.86  225.33   1999637     GS\n",
       "39151 2017-07-31   147.90   149.98  147.32  149.60   5253318     HD\n",
       "42171 2017-07-31   144.81   144.93  143.84  144.67   4355718    IBM\n",
       "45190 2017-07-31    35.47    35.74   35.32   35.47  27056989   INTC\n",
       "48210 2017-07-31   131.14   133.58  130.52  132.72   5440788    JNJ\n",
       "51230 2017-07-31    91.45    92.36   90.90   91.80  11520329    JPM\n",
       "54250 2017-07-31   156.36   156.66  154.85  155.14   4280364    MCD\n",
       "57269 2017-07-31    63.81    64.36   63.51   63.88  11714888    MRK\n",
       "60288 2017-07-31    73.30    73.44   72.41   72.70  23600054   MSFT\n",
       "63308 2017-07-31    58.15    59.12   58.33   59.05   6225907    NKE\n",
       "66328 2017-07-31    33.06    33.17   32.81   33.16  21982573    PFE\n",
       "69348 2017-07-31    90.56    91.07   89.96   90.82   7835661     PG\n",
       "72368 2017-07-31   126.11   127.47  125.72  128.09   1077258    TRV\n",
       "75388 2017-07-31   118.79   119.34  118.44  118.57   2172327    UTX\n",
       "78408 2017-07-31   189.11   191.24  187.60  191.81   3776476    UNH\n",
       "81428 2017-07-31    47.70    48.57   47.12   48.40  28456827     VZ\n",
       "84448 2017-07-31    79.80    79.96   79.54   79.99   6263189    WMT\n",
       "87467 2017-07-31   960.00   961.19  941.72  945.50   2293389  GOOGL\n",
       "90486 2017-07-31  1019.05  1019.05  987.02  987.78   7352063   AMZN\n",
       "93505 2017-07-31    59.70    59.89   58.07   58.40   6738130   AABA"
      ]
     },
     "execution_count": 12,
     "metadata": {},
     "output_type": "execute_result"
    }
   ],
   "source": [
    "df[df.Date == '2017-07-31']"
   ]
  },
  {
   "cell_type": "markdown",
   "metadata": {},
   "source": [
    "# Simlarly, we noticed that 8 of the 31 stocks have missing data on 1st April, 2014. As done before, we will use the stock prices of the previous day to fill the data."
   ]
  },
  {
   "cell_type": "code",
   "execution_count": 13,
   "metadata": {},
   "outputs": [],
   "source": [
    "missing_data_stocks = ['CSCO','AMZN','INTC','AAPL','MSFT','MRK','GOOGL', 'AABA']"
   ]
  },
  {
   "cell_type": "code",
   "execution_count": 14,
   "metadata": {},
   "outputs": [],
   "source": [
    "columns = df.columns.values"
   ]
  },
  {
   "cell_type": "code",
   "execution_count": 15,
   "metadata": {},
   "outputs": [
    {
     "name": "stdout",
     "output_type": "stream",
     "text": [
      "Complete\n"
     ]
    }
   ],
   "source": [
    "for stock in missing_data_stocks:\n",
    "    tdf = df[(df.Name == stock) & (df.Date == '2014-03-28')].copy()\n",
    "    tdf.Date = '2014-04-01'\n",
    "    pd.concat([df, tdf])\n",
    "print(\"Complete\")\n"
   ]
  },
  {
   "cell_type": "code",
   "execution_count": 16,
   "metadata": {},
   "outputs": [
    {
     "data": {
      "text/html": [
       "<div>\n",
       "<style scoped>\n",
       "    .dataframe tbody tr th:only-of-type {\n",
       "        vertical-align: middle;\n",
       "    }\n",
       "\n",
       "    .dataframe tbody tr th {\n",
       "        vertical-align: top;\n",
       "    }\n",
       "\n",
       "    .dataframe thead th {\n",
       "        text-align: right;\n",
       "    }\n",
       "</style>\n",
       "<table border=\"1\" class=\"dataframe\">\n",
       "  <thead>\n",
       "    <tr style=\"text-align: right;\">\n",
       "      <th></th>\n",
       "      <th>Date</th>\n",
       "      <th>Open</th>\n",
       "      <th>High</th>\n",
       "      <th>Low</th>\n",
       "      <th>Close</th>\n",
       "      <th>Volume</th>\n",
       "      <th>Name</th>\n",
       "    </tr>\n",
       "  </thead>\n",
       "  <tbody>\n",
       "    <tr>\n",
       "      <th>20192</th>\n",
       "      <td>2014-04-01</td>\n",
       "      <td>22.33</td>\n",
       "      <td>23.31</td>\n",
       "      <td>22.3</td>\n",
       "      <td>23.1</td>\n",
       "      <td>80113826</td>\n",
       "      <td>CSCO</td>\n",
       "    </tr>\n",
       "  </tbody>\n",
       "</table>\n",
       "</div>"
      ],
      "text/plain": [
       "            Date   Open   High   Low  Close    Volume  Name\n",
       "20192 2014-04-01  22.33  23.31  22.3   23.1  80113826  CSCO"
      ]
     },
     "execution_count": 16,
     "metadata": {},
     "output_type": "execute_result"
    }
   ],
   "source": [
    "df[(df.Name == 'CSCO') & (df.Date == '2014-04-01')]"
   ]
  },
  {
   "cell_type": "code",
   "execution_count": 17,
   "metadata": {},
   "outputs": [
    {
     "data": {
      "text/html": [
       "<div>\n",
       "<style scoped>\n",
       "    .dataframe tbody tr th:only-of-type {\n",
       "        vertical-align: middle;\n",
       "    }\n",
       "\n",
       "    .dataframe tbody tr th {\n",
       "        vertical-align: top;\n",
       "    }\n",
       "\n",
       "    .dataframe thead th {\n",
       "        text-align: right;\n",
       "    }\n",
       "</style>\n",
       "<table border=\"1\" class=\"dataframe\">\n",
       "  <thead>\n",
       "    <tr style=\"text-align: right;\">\n",
       "      <th></th>\n",
       "      <th>Date</th>\n",
       "      <th>Open</th>\n",
       "      <th>High</th>\n",
       "      <th>Low</th>\n",
       "      <th>Close</th>\n",
       "      <th>Volume</th>\n",
       "      <th>Name</th>\n",
       "    </tr>\n",
       "  </thead>\n",
       "  <tbody>\n",
       "    <tr>\n",
       "      <th>25815</th>\n",
       "      <td>2012-08-01</td>\n",
       "      <td>NaN</td>\n",
       "      <td>NaN</td>\n",
       "      <td>NaN</td>\n",
       "      <td>49.14</td>\n",
       "      <td>0</td>\n",
       "      <td>DIS</td>\n",
       "    </tr>\n",
       "  </tbody>\n",
       "</table>\n",
       "</div>"
      ],
      "text/plain": [
       "            Date  Open  High  Low  Close  Volume Name\n",
       "25815 2012-08-01   NaN   NaN  NaN  49.14       0  DIS"
      ]
     },
     "execution_count": 17,
     "metadata": {},
     "output_type": "execute_result"
    }
   ],
   "source": [
    "df[df.Open.isnull()]"
   ]
  },
  {
   "cell_type": "code",
   "execution_count": 18,
   "metadata": {},
   "outputs": [],
   "source": [
    "df = df[~((df.Date == '2012-08-01') & (df.Name == 'DIS'))]"
   ]
  },
  {
   "cell_type": "code",
   "execution_count": 19,
   "metadata": {},
   "outputs": [
    {
     "data": {
      "text/plain": [
       "Date      0\n",
       "Open      0\n",
       "High      0\n",
       "Low       0\n",
       "Close     0\n",
       "Volume    0\n",
       "Name      0\n",
       "dtype: int64"
      ]
     },
     "execution_count": 19,
     "metadata": {},
     "output_type": "execute_result"
    }
   ],
   "source": [
    "df.isnull().sum()"
   ]
  },
  {
   "cell_type": "markdown",
   "metadata": {},
   "source": [
    "# Since we have four values of stock price for each day, let's create a feature called Price which is the average of all these values."
   ]
  },
  {
   "cell_type": "code",
   "execution_count": 20,
   "metadata": {},
   "outputs": [
    {
     "data": {
      "text/html": [
       "<div>\n",
       "<style scoped>\n",
       "    .dataframe tbody tr th:only-of-type {\n",
       "        vertical-align: middle;\n",
       "    }\n",
       "\n",
       "    .dataframe tbody tr th {\n",
       "        vertical-align: top;\n",
       "    }\n",
       "\n",
       "    .dataframe thead th {\n",
       "        text-align: right;\n",
       "    }\n",
       "</style>\n",
       "<table border=\"1\" class=\"dataframe\">\n",
       "  <thead>\n",
       "    <tr style=\"text-align: right;\">\n",
       "      <th></th>\n",
       "      <th>Date</th>\n",
       "      <th>Open</th>\n",
       "      <th>High</th>\n",
       "      <th>Low</th>\n",
       "      <th>Close</th>\n",
       "      <th>Volume</th>\n",
       "      <th>Name</th>\n",
       "      <th>Price</th>\n",
       "    </tr>\n",
       "  </thead>\n",
       "  <tbody>\n",
       "    <tr>\n",
       "      <th>0</th>\n",
       "      <td>2006-01-03</td>\n",
       "      <td>77.76</td>\n",
       "      <td>79.35</td>\n",
       "      <td>77.24</td>\n",
       "      <td>79.11</td>\n",
       "      <td>3117200</td>\n",
       "      <td>MMM</td>\n",
       "      <td>78.3650</td>\n",
       "    </tr>\n",
       "    <tr>\n",
       "      <th>1</th>\n",
       "      <td>2006-01-04</td>\n",
       "      <td>79.49</td>\n",
       "      <td>79.49</td>\n",
       "      <td>78.25</td>\n",
       "      <td>78.71</td>\n",
       "      <td>2558000</td>\n",
       "      <td>MMM</td>\n",
       "      <td>78.9850</td>\n",
       "    </tr>\n",
       "    <tr>\n",
       "      <th>2</th>\n",
       "      <td>2006-01-05</td>\n",
       "      <td>78.41</td>\n",
       "      <td>78.65</td>\n",
       "      <td>77.56</td>\n",
       "      <td>77.99</td>\n",
       "      <td>2529500</td>\n",
       "      <td>MMM</td>\n",
       "      <td>78.1525</td>\n",
       "    </tr>\n",
       "    <tr>\n",
       "      <th>3</th>\n",
       "      <td>2006-01-06</td>\n",
       "      <td>78.64</td>\n",
       "      <td>78.90</td>\n",
       "      <td>77.64</td>\n",
       "      <td>78.63</td>\n",
       "      <td>2479500</td>\n",
       "      <td>MMM</td>\n",
       "      <td>78.4525</td>\n",
       "    </tr>\n",
       "    <tr>\n",
       "      <th>4</th>\n",
       "      <td>2006-01-09</td>\n",
       "      <td>78.50</td>\n",
       "      <td>79.83</td>\n",
       "      <td>78.46</td>\n",
       "      <td>79.02</td>\n",
       "      <td>1845600</td>\n",
       "      <td>MMM</td>\n",
       "      <td>78.9525</td>\n",
       "    </tr>\n",
       "  </tbody>\n",
       "</table>\n",
       "</div>"
      ],
      "text/plain": [
       "        Date   Open   High    Low  Close   Volume Name    Price\n",
       "0 2006-01-03  77.76  79.35  77.24  79.11  3117200  MMM  78.3650\n",
       "1 2006-01-04  79.49  79.49  78.25  78.71  2558000  MMM  78.9850\n",
       "2 2006-01-05  78.41  78.65  77.56  77.99  2529500  MMM  78.1525\n",
       "3 2006-01-06  78.64  78.90  77.64  78.63  2479500  MMM  78.4525\n",
       "4 2006-01-09  78.50  79.83  78.46  79.02  1845600  MMM  78.9525"
      ]
     },
     "execution_count": 20,
     "metadata": {},
     "output_type": "execute_result"
    }
   ],
   "source": [
    "values = (df['High'] + df['Low'] + df['Open'] + df['Close'])/4\n",
    "df = df.assign(Price=values)\n",
    "df.head()"
   ]
  },
  {
   "cell_type": "code",
   "execution_count": 21,
   "metadata": {},
   "outputs": [
    {
     "data": {
      "text/plain": [
       "count    93611.000000\n",
       "mean        85.626472\n",
       "std        108.106055\n",
       "min          6.727500\n",
       "25%         33.953750\n",
       "50%         60.067500\n",
       "75%         93.997500\n",
       "max       1200.762500\n",
       "Name: Price, dtype: float64"
      ]
     },
     "execution_count": 21,
     "metadata": {},
     "output_type": "execute_result"
    }
   ],
   "source": [
    "df.Price.describe()"
   ]
  },
  {
   "cell_type": "code",
   "execution_count": 22,
   "metadata": {},
   "outputs": [],
   "source": [
    "stock_names = df.Name.unique()"
   ]
  },
  {
   "cell_type": "code",
   "execution_count": 23,
   "metadata": {},
   "outputs": [
    {
     "data": {
      "text/plain": [
       "count    93611.000000\n",
       "mean         0.789919\n",
       "std          1.907922\n",
       "min         -0.808701\n",
       "25%          0.035007\n",
       "50%          0.342423\n",
       "75%          0.816421\n",
       "max         24.392810\n",
       "Name: Growth, dtype: float64"
      ]
     },
     "execution_count": 23,
     "metadata": {},
     "output_type": "execute_result"
    }
   ],
   "source": [
    "day_prices = df[df.Date == df.Date.min()].Price\n",
    "price_mapping = {n : c for n, c in zip(stock_names, day_prices)}\n",
    "base_mapping = np.array(list(map(lambda x : price_mapping[x], df['Name'].values)))\n",
    "df['Growth'] = df['Price'] / base_mapping - 1\n",
    "df.Growth.describe()"
   ]
  },
  {
   "cell_type": "markdown",
   "metadata": {},
   "source": [
    "# Let's find out the top 5 best and worst performing stocks!"
   ]
  },
  {
   "cell_type": "code",
   "execution_count": 24,
   "metadata": {},
   "outputs": [],
   "source": [
    "sample_dates = pd.date_range(start='2006-01-01', end='2018-01-01', freq='B')"
   ]
  },
  {
   "cell_type": "code",
   "execution_count": 25,
   "metadata": {},
   "outputs": [],
   "source": [
    "year_end_dates = sample_dates[sample_dates.is_year_end]"
   ]
  },
  {
   "cell_type": "code",
   "execution_count": 26,
   "metadata": {},
   "outputs": [
    {
     "data": {
      "text/plain": [
       "DatetimeIndex(['2006-12-29', '2007-12-31', '2008-12-31', '2009-12-31',\n",
       "               '2010-12-31', '2011-12-30', '2012-12-31', '2013-12-31',\n",
       "               '2014-12-31', '2015-12-31', '2016-12-30', '2017-12-29'],\n",
       "              dtype='datetime64[ns]', freq=None)"
      ]
     },
     "execution_count": 26,
     "metadata": {},
     "output_type": "execute_result"
    }
   ],
   "source": [
    "year_end_dates"
   ]
  },
  {
   "cell_type": "code",
   "execution_count": 27,
   "metadata": {},
   "outputs": [],
   "source": [
    "worst_stocks = df[df.Date == df.Date.max()].sort_values('Growth').head(5)\n",
    "best_stocks = df[df.Date == df.Date.max()].sort_values('Growth', ascending=False).head(5)"
   ]
  },
  {
   "cell_type": "code",
   "execution_count": 28,
   "metadata": {},
   "outputs": [],
   "source": [
    "ws = worst_stocks.Name.values\n",
    "bs = best_stocks.Name.values\n",
    "tdf = df.copy()"
   ]
  },
  {
   "cell_type": "code",
   "execution_count": 29,
   "metadata": {},
   "outputs": [],
   "source": [
    "tdf = df.set_index('Date')"
   ]
  },
  {
   "cell_type": "code",
   "execution_count": 30,
   "metadata": {},
   "outputs": [
    {
     "data": {
      "text/plain": [
       "Name\n",
       "AABA    AxesSubplot(0.125,0.2;0.775x0.68)\n",
       "GE      AxesSubplot(0.125,0.2;0.775x0.68)\n",
       "PFE     AxesSubplot(0.125,0.2;0.775x0.68)\n",
       "PG      AxesSubplot(0.125,0.2;0.775x0.68)\n",
       "XOM     AxesSubplot(0.125,0.2;0.775x0.68)\n",
       "Name: Growth, dtype: object"
      ]
     },
     "execution_count": 30,
     "metadata": {},
     "output_type": "execute_result"
    },
    {
     "data": {
      "image/png": "[encoded data removed]",
      "text/plain": [
       "<Figure size 432x288 with 1 Axes>"
      ]
     },
     "metadata": {
      "needs_background": "light"
     },
     "output_type": "display_data"
    }
   ],
   "source": [
    "tdf[tdf.Name.isin(ws)].groupby('Name').Growth.plot(title='Historical trend of worst 5 stocks of 2017', legend=True)"
   ]
  },
  {
   "cell_type": "code",
   "execution_count": 31,
   "metadata": {},
   "outputs": [
    {
     "data": {
      "text/plain": [
       "Name\n",
       "AAPL     AxesSubplot(0.125,0.2;0.775x0.68)\n",
       "AMZN     AxesSubplot(0.125,0.2;0.775x0.68)\n",
       "GOOGL    AxesSubplot(0.125,0.2;0.775x0.68)\n",
       "MCD      AxesSubplot(0.125,0.2;0.775x0.68)\n",
       "NKE      AxesSubplot(0.125,0.2;0.775x0.68)\n",
       "Name: Growth, dtype: object"
      ]
     },
     "execution_count": 31,
     "metadata": {},
     "output_type": "execute_result"
    },
    {
     "data": {
      "image/png": "[encoded data removed]",
      "text/plain": [
       "<Figure size 432x288 with 1 Axes>"
      ]
     },
     "metadata": {
      "needs_background": "light"
     },
     "output_type": "display_data"
    }
   ],
   "source": [
    "tdf[tdf.Name.isin(bs)].groupby('Name').Growth.plot(title='Historical trend of best 5 stocks of 2017', legend=True)"
   ]
  },
  {
   "cell_type": "code",
   "execution_count": 32,
   "metadata": {},
   "outputs": [
    {
     "data": {
      "text/html": [
       "<div>\n",
       "<style scoped>\n",
       "    .dataframe tbody tr th:only-of-type {\n",
       "        vertical-align: middle;\n",
       "    }\n",
       "\n",
       "    .dataframe tbody tr th {\n",
       "        vertical-align: top;\n",
       "    }\n",
       "\n",
       "    .dataframe thead th {\n",
       "        text-align: right;\n",
       "    }\n",
       "</style>\n",
       "<table border=\"1\" class=\"dataframe\">\n",
       "  <thead>\n",
       "    <tr style=\"text-align: right;\">\n",
       "      <th></th>\n",
       "      <th>Date</th>\n",
       "      <th>Open</th>\n",
       "      <th>High</th>\n",
       "      <th>Low</th>\n",
       "      <th>Close</th>\n",
       "      <th>Volume</th>\n",
       "      <th>Name</th>\n",
       "      <th>Price</th>\n",
       "      <th>Growth</th>\n",
       "    </tr>\n",
       "  </thead>\n",
       "  <tbody>\n",
       "    <tr>\n",
       "      <th>33217</th>\n",
       "      <td>2017-12-29</td>\n",
       "      <td>17.27</td>\n",
       "      <td>17.53</td>\n",
       "      <td>17.27</td>\n",
       "      <td>17.45</td>\n",
       "      <td>76149513</td>\n",
       "      <td>GE</td>\n",
       "      <td>17.380</td>\n",
       "      <td>-0.505794</td>\n",
       "    </tr>\n",
       "    <tr>\n",
       "      <th>30197</th>\n",
       "      <td>2017-12-29</td>\n",
       "      <td>84.00</td>\n",
       "      <td>84.20</td>\n",
       "      <td>83.64</td>\n",
       "      <td>83.64</td>\n",
       "      <td>8523411</td>\n",
       "      <td>XOM</td>\n",
       "      <td>83.870</td>\n",
       "      <td>0.460005</td>\n",
       "    </tr>\n",
       "    <tr>\n",
       "      <th>66434</th>\n",
       "      <td>2017-12-29</td>\n",
       "      <td>36.23</td>\n",
       "      <td>36.49</td>\n",
       "      <td>36.22</td>\n",
       "      <td>36.22</td>\n",
       "      <td>11421487</td>\n",
       "      <td>PFE</td>\n",
       "      <td>36.290</td>\n",
       "      <td>0.528805</td>\n",
       "    </tr>\n",
       "    <tr>\n",
       "      <th>69454</th>\n",
       "      <td>2017-12-29</td>\n",
       "      <td>92.24</td>\n",
       "      <td>92.46</td>\n",
       "      <td>91.88</td>\n",
       "      <td>91.88</td>\n",
       "      <td>4346675</td>\n",
       "      <td>PG</td>\n",
       "      <td>92.115</td>\n",
       "      <td>0.577109</td>\n",
       "    </tr>\n",
       "    <tr>\n",
       "      <th>93611</th>\n",
       "      <td>2017-12-29</td>\n",
       "      <td>69.79</td>\n",
       "      <td>70.13</td>\n",
       "      <td>69.43</td>\n",
       "      <td>69.85</td>\n",
       "      <td>6613070</td>\n",
       "      <td>AABA</td>\n",
       "      <td>69.800</td>\n",
       "      <td>0.738372</td>\n",
       "    </tr>\n",
       "  </tbody>\n",
       "</table>\n",
       "</div>"
      ],
      "text/plain": [
       "            Date   Open   High    Low  Close    Volume  Name   Price    Growth\n",
       "33217 2017-12-29  17.27  17.53  17.27  17.45  76149513    GE  17.380 -0.505794\n",
       "30197 2017-12-29  84.00  84.20  83.64  83.64   8523411   XOM  83.870  0.460005\n",
       "66434 2017-12-29  36.23  36.49  36.22  36.22  11421487   PFE  36.290  0.528805\n",
       "69454 2017-12-29  92.24  92.46  91.88  91.88   4346675    PG  92.115  0.577109\n",
       "93611 2017-12-29  69.79  70.13  69.43  69.85   6613070  AABA  69.800  0.738372"
      ]
     },
     "execution_count": 32,
     "metadata": {},
     "output_type": "execute_result"
    }
   ],
   "source": [
    "worst_stocks\n"
   ]
  },
  {
   "cell_type": "code",
   "execution_count": 33,
   "metadata": {},
   "outputs": [
    {
     "data": {
      "text/html": [
       "<div>\n",
       "<style scoped>\n",
       "    .dataframe tbody tr th:only-of-type {\n",
       "        vertical-align: middle;\n",
       "    }\n",
       "\n",
       "    .dataframe tbody tr th {\n",
       "        vertical-align: top;\n",
       "    }\n",
       "\n",
       "    .dataframe thead th {\n",
       "        text-align: right;\n",
       "    }\n",
       "</style>\n",
       "<table border=\"1\" class=\"dataframe\">\n",
       "  <thead>\n",
       "    <tr style=\"text-align: right;\">\n",
       "      <th></th>\n",
       "      <th>Date</th>\n",
       "      <th>Open</th>\n",
       "      <th>High</th>\n",
       "      <th>Low</th>\n",
       "      <th>Close</th>\n",
       "      <th>Volume</th>\n",
       "      <th>Name</th>\n",
       "      <th>Price</th>\n",
       "      <th>Growth</th>\n",
       "    </tr>\n",
       "  </thead>\n",
       "  <tbody>\n",
       "    <tr>\n",
       "      <th>90592</th>\n",
       "      <td>2017-12-29</td>\n",
       "      <td>1182.35</td>\n",
       "      <td>1184.00</td>\n",
       "      <td>1167.50</td>\n",
       "      <td>1169.47</td>\n",
       "      <td>2688391</td>\n",
       "      <td>AMZN</td>\n",
       "      <td>1175.83</td>\n",
       "      <td>23.865556</td>\n",
       "    </tr>\n",
       "    <tr>\n",
       "      <th>9058</th>\n",
       "      <td>2017-12-29</td>\n",
       "      <td>170.52</td>\n",
       "      <td>170.59</td>\n",
       "      <td>169.22</td>\n",
       "      <td>169.23</td>\n",
       "      <td>25999922</td>\n",
       "      <td>AAPL</td>\n",
       "      <td>169.89</td>\n",
       "      <td>15.172299</td>\n",
       "    </tr>\n",
       "    <tr>\n",
       "      <th>63414</th>\n",
       "      <td>2017-12-29</td>\n",
       "      <td>63.21</td>\n",
       "      <td>63.37</td>\n",
       "      <td>62.55</td>\n",
       "      <td>62.55</td>\n",
       "      <td>5222115</td>\n",
       "      <td>NKE</td>\n",
       "      <td>62.92</td>\n",
       "      <td>4.828624</td>\n",
       "    </tr>\n",
       "    <tr>\n",
       "      <th>54356</th>\n",
       "      <td>2017-12-29</td>\n",
       "      <td>172.98</td>\n",
       "      <td>172.98</td>\n",
       "      <td>171.92</td>\n",
       "      <td>172.12</td>\n",
       "      <td>2201771</td>\n",
       "      <td>MCD</td>\n",
       "      <td>172.50</td>\n",
       "      <td>4.099778</td>\n",
       "    </tr>\n",
       "    <tr>\n",
       "      <th>87573</th>\n",
       "      <td>2017-12-29</td>\n",
       "      <td>1055.49</td>\n",
       "      <td>1058.05</td>\n",
       "      <td>1052.70</td>\n",
       "      <td>1053.40</td>\n",
       "      <td>1180340</td>\n",
       "      <td>GOOGL</td>\n",
       "      <td>1054.91</td>\n",
       "      <td>3.925631</td>\n",
       "    </tr>\n",
       "  </tbody>\n",
       "</table>\n",
       "</div>"
      ],
      "text/plain": [
       "            Date     Open     High      Low    Close    Volume   Name  \\\n",
       "90592 2017-12-29  1182.35  1184.00  1167.50  1169.47   2688391   AMZN   \n",
       "9058  2017-12-29   170.52   170.59   169.22   169.23  25999922   AAPL   \n",
       "63414 2017-12-29    63.21    63.37    62.55    62.55   5222115    NKE   \n",
       "54356 2017-12-29   172.98   172.98   171.92   172.12   2201771    MCD   \n",
       "87573 2017-12-29  1055.49  1058.05  1052.70  1053.40   1180340  GOOGL   \n",
       "\n",
       "         Price     Growth  \n",
       "90592  1175.83  23.865556  \n",
       "9058    169.89  15.172299  \n",
       "63414    62.92   4.828624  \n",
       "54356   172.50   4.099778  \n",
       "87573  1054.91   3.925631  "
      ]
     },
     "execution_count": 33,
     "metadata": {},
     "output_type": "execute_result"
    }
   ],
   "source": [
    "best_stocks"
   ]
  },
  {
   "cell_type": "markdown",
   "metadata": {},
   "source": [
    "#  try to find some corelation between the growth vs time of each stock in the dataset"
   ]
  },
  {
   "cell_type": "code",
   "execution_count": 34,
   "metadata": {},
   "outputs": [
    {
     "data": {
      "text/plain": [
       "<matplotlib.axes._subplots.AxesSubplot at 0x267c545b100>"
      ]
     },
     "execution_count": 34,
     "metadata": {},
     "output_type": "execute_result"
    },
    {
     "data": {
      "image/png": "[encoded data removed]",
      "text/plain": [
       "<Figure size 432x288 with 2 Axes>"
      ]
     },
     "metadata": {
      "needs_background": "light"
     },
     "output_type": "display_data"
    }
   ],
   "source": [
    "corr = df.pivot('Date', 'Name', 'Growth').corr()\n",
    "sns.heatmap(corr)"
   ]
  },
  {
   "cell_type": "markdown",
   "metadata": {},
   "source": [
    "# Although we can see some positive and negative corelations, the graph above is very dense. Let's us just focus on high positive and high negative corelations.# "
   ]
  },
  {
   "cell_type": "code",
   "execution_count": 35,
   "metadata": {},
   "outputs": [],
   "source": [
    "def unique_corelations(indices):\n",
    "    mapping = {}\n",
    "    for record in indices:\n",
    "        (stock_a, stock_b) = record\n",
    "        value_list = mapping.get(stock_a)\n",
    "        if value_list:\n",
    "            if stock_b not in value_list:\n",
    "                value_list.append(stock_b)\n",
    "                mapping.update({stock_a: value_list})\n",
    "        else:\n",
    "            mapping.update({stock_a: [stock_b]})\n",
    "\n",
    "    return mapping\n",
    "\n",
    "def filter_corelations_positive(corr, threshold=0.9):\n",
    "    indices = np.where(corr > threshold)\n",
    "    indices = [(corr.index[x], corr.columns[y]) for x, y in zip(*indices)\n",
    "                                        if x != y and x < y]\n",
    "    mapping = unique_corelations(indices)\n",
    "    return mapping\n",
    "    \n",
    "def filter_corelations_negative(corr, threshold=-0.8):\n",
    "    indices = np.where(corr < threshold)\n",
    "    indices = [(corr.index[x], corr.columns[y]) for x, y in zip(*indices)\n",
    "                                        if x != y and x < y]\n",
    "    mapping = unique_corelations(indices)\n",
    "    return mapping"
   ]
  },
  {
   "cell_type": "code",
   "execution_count": 36,
   "metadata": {},
   "outputs": [
    {
     "data": {
      "text/plain": [
       "{'AMZN': ['GOOGL', 'HD', 'MSFT', 'UNH'],\n",
       " 'BA': ['JPM'],\n",
       " 'DIS': ['HD', 'NKE', 'TRV'],\n",
       " 'GOOGL': ['HD', 'JNJ', 'MMM', 'MSFT', 'TRV', 'UNH'],\n",
       " 'HD': ['JNJ', 'MMM', 'NKE', 'TRV', 'UNH'],\n",
       " 'JNJ': ['MMM', 'MSFT', 'TRV'],\n",
       " 'JPM': ['MSFT'],\n",
       " 'MMM': ['MSFT', 'TRV', 'UNH'],\n",
       " 'MSFT': ['UNH'],\n",
       " 'NKE': ['TRV']}"
      ]
     },
     "execution_count": 36,
     "metadata": {},
     "output_type": "execute_result"
    }
   ],
   "source": [
    "filter_corelations_positive(corr, threshold=0.95)"
   ]
  },
  {
   "cell_type": "code",
   "execution_count": 37,
   "metadata": {},
   "outputs": [
    {
     "data": {
      "text/plain": [
       "{'GE': ['IBM', 'MCD']}"
      ]
     },
     "execution_count": 37,
     "metadata": {},
     "output_type": "execute_result"
    }
   ],
   "source": [
    "filter_corelations_negative(corr, -0.1)"
   ]
  },
  {
   "cell_type": "code",
   "execution_count": 38,
   "metadata": {},
   "outputs": [],
   "source": [
    "google_df = df[df.Name == 'GOOGL']"
   ]
  },
  {
   "cell_type": "code",
   "execution_count": 39,
   "metadata": {},
   "outputs": [],
   "source": [
    "gdf = google_df[['Date', 'Price']].sort_values('Date')"
   ]
  },
  {
   "cell_type": "markdown",
   "metadata": {},
   "source": [
    "# We will only use the Price column to forecast the future stock price for simplicity. We will ignore all of the other columns."
   ]
  },
  {
   "cell_type": "code",
   "execution_count": 40,
   "metadata": {},
   "outputs": [
    {
     "name": "stdout",
     "output_type": "stream",
     "text": [
      "Training set size:  2768\n",
      "Test set size:  251\n"
     ]
    }
   ],
   "source": [
    "training_set = gdf[gdf.Date.dt.year != 2017].Price.values\n",
    "test_set =  gdf[gdf.Date.dt.year == 2017].Price.values\n",
    "print(\"Training set size: \",training_set.size)\n",
    "print(\"Test set size: \", test_set.size)"
   ]
  },
  {
   "cell_type": "markdown",
   "metadata": {},
   "source": [
    "# As the amount of stock prices vary by a huge margin, we will scale the prices to be in the 0-1 range"
   ]
  },
  {
   "cell_type": "code",
   "execution_count": 41,
   "metadata": {},
   "outputs": [],
   "source": [
    "from sklearn.preprocessing import MinMaxScaler"
   ]
  },
  {
   "cell_type": "code",
   "execution_count": 42,
   "metadata": {},
   "outputs": [],
   "source": [
    "scaler = MinMaxScaler()"
   ]
  },
  {
   "cell_type": "code",
   "execution_count": 43,
   "metadata": {},
   "outputs": [],
   "source": [
    "training_set_scaled = scaler.fit_transform(training_set.reshape(-1, 1))"
   ]
  },
  {
   "cell_type": "markdown",
   "metadata": {},
   "source": [
    "# For training, we will use previous 30 stock values to predict the stock price at time t. For this, we have to create our training and test set."
   ]
  },
  {
   "cell_type": "code",
   "execution_count": 44,
   "metadata": {},
   "outputs": [],
   "source": [
    "def create_train_data(training_set_scaled):\n",
    "    X_train, y_train = [], []\n",
    "    for i in range(30, training_set_scaled.size):\n",
    "        X_train.append(training_set_scaled[i-30: i])\n",
    "        y_train.append(training_set_scaled[i])\n",
    "    # Converting list to numpy arrays\n",
    "    X_train = np.array(X_train)\n",
    "    y_train = np.array(y_train)\n",
    "    return X_train, y_train"
   ]
  },
  {
   "cell_type": "code",
   "execution_count": 45,
   "metadata": {},
   "outputs": [],
   "source": [
    "X_train, y_train = create_train_data(training_set_scaled)\n"
   ]
  },
  {
   "cell_type": "markdown",
   "metadata": {},
   "source": [
    "# Similarly, we'll create our test data set."
   ]
  },
  {
   "cell_type": "code",
   "execution_count": 46,
   "metadata": {},
   "outputs": [],
   "source": [
    "def create_test_data():\n",
    "    X_test = []\n",
    "    inputs = gdf[len(gdf) - len(test_set) - 30:].Price.values\n",
    "    inputs = scaler.transform(inputs.reshape(-1, 1))\n",
    "    for i in range(30, test_set.size+30): # Range of the number of values in the training dataset\n",
    "        X_test.append(inputs[i - 30: i, 0])\n",
    "    X_test = np.array(X_test)\n",
    "    X_test = np.reshape(X_test, (X_test.shape[0], X_test.shape[1], 1))\n",
    "    return X_test"
   ]
  },
  {
   "cell_type": "code",
   "execution_count": 47,
   "metadata": {},
   "outputs": [],
   "source": [
    "X_test = create_test_data()"
   ]
  },
  {
   "cell_type": "code",
   "execution_count": 48,
   "metadata": {},
   "outputs": [
    {
     "data": {
      "text/plain": [
       "(251, 30, 1)"
      ]
     },
     "execution_count": 48,
     "metadata": {},
     "output_type": "execute_result"
    }
   ],
   "source": [
    "X_test.shape"
   ]
  },
  {
   "cell_type": "markdown",
   "metadata": {},
   "source": [
    "# We will use a single LSTM layer."
   ]
  },
  {
   "cell_type": "code",
   "execution_count": null,
   "metadata": {},
   "outputs": [],
   "source": []
  },
  {
   "cell_type": "code",
   "execution_count": 49,
   "metadata": {},
   "outputs": [],
   "source": [
    "from keras.models import Sequential\n",
    "from keras.layers import Dense, LSTM"
   ]
  },
  {
   "cell_type": "code",
   "execution_count": 50,
   "metadata": {},
   "outputs": [],
   "source": [
    "def create_simple_model():\n",
    "    model = Sequential()\n",
    "    model.add(LSTM(units = 10, return_sequences = False, input_shape = (X_train.shape[1], 1)))\n",
    "    model.add(Dense(units = 1))\n",
    "    return model"
   ]
  },
  {
   "cell_type": "markdown",
   "metadata": {},
   "source": [
    "# We now need to pick the optimizer for our model and a function to measure how well the model is doing i.e loss. We will pick RMSE as the loss function and Sigmoid Gradient Descent(SGD) as our optimizer with default learning rate(i.e 0.01)"
   ]
  },
  {
   "cell_type": "code",
   "execution_count": 51,
   "metadata": {},
   "outputs": [],
   "source": [
    "def compile_and_run(model, epochs=50, batch_size=64):\n",
    "    model.compile(metrics=['accuracy'], optimizer='adam', loss='mean_squared_error')\n",
    "    history = model.fit(X_train, y_train, epochs=epochs, batch_size=batch_size, verbose=3)\n",
    "    return history"
   ]
  },
  {
   "cell_type": "code",
   "execution_count": 52,
   "metadata": {},
   "outputs": [],
   "source": [
    "def plot_metrics(history):\n",
    "    metrics_df = pd.DataFrame(data={\"loss\": history.history['loss']})\n",
    "    metrics_df.plot()"
   ]
  },
  {
   "cell_type": "code",
   "execution_count": 53,
   "metadata": {},
   "outputs": [
    {
     "name": "stdout",
     "output_type": "stream",
     "text": [
      "Epoch 1/20\n",
      "Epoch 2/20\n",
      "Epoch 3/20\n",
      "Epoch 4/20\n",
      "Epoch 5/20\n",
      "Epoch 6/20\n",
      "Epoch 7/20\n",
      "Epoch 8/20\n",
      "Epoch 9/20\n",
      "Epoch 10/20\n",
      "Epoch 11/20\n",
      "Epoch 12/20\n",
      "Epoch 13/20\n",
      "Epoch 14/20\n",
      "Epoch 15/20\n",
      "Epoch 16/20\n",
      "Epoch 17/20\n",
      "Epoch 18/20\n",
      "Epoch 19/20\n",
      "Epoch 20/20\n"
     ]
    }
   ],
   "source": [
    "simple_model = create_simple_model()\n",
    "history = compile_and_run(simple_model, epochs=20)"
   ]
  },
  {
   "cell_type": "code",
   "execution_count": 54,
   "metadata": {},
   "outputs": [
    {
     "data": {
      "image/png": "[encoded data removed]",
      "text/plain": [
       "<Figure size 432x288 with 1 Axes>"
      ]
     },
     "metadata": {
      "needs_background": "light"
     },
     "output_type": "display_data"
    }
   ],
   "source": [
    "plot_metrics(history)"
   ]
  },
  {
   "cell_type": "markdown",
   "metadata": {},
   "source": [
    "# Let us now use the model on the test set."
   ]
  },
  {
   "cell_type": "code",
   "execution_count": 55,
   "metadata": {},
   "outputs": [],
   "source": [
    "def make_predictions(X_test, model):\n",
    "    y_pred = model.predict(X_test)\n",
    "    final_predictions = scaler.inverse_transform(y_pred)\n",
    "    fp = np.ndarray.flatten(final_predictions)\n",
    "    ap = np.ndarray.flatten(test_set)\n",
    "    pdf = pd.DataFrame(data={'Actual': ap, 'Predicted': fp})\n",
    "    ax = pdf.plot()"
   ]
  },
  {
   "cell_type": "code",
   "execution_count": 56,
   "metadata": {},
   "outputs": [
    {
     "data": {
      "image/png": "[encoded data removed]",
      "text/plain": [
       "<Figure size 432x288 with 1 Axes>"
      ]
     },
     "metadata": {
      "needs_background": "light"
     },
     "output_type": "display_data"
    }
   ],
   "source": [
    "make_predictions(X_test, simple_model)"
   ]
  },
  {
   "cell_type": "code",
   "execution_count": 57,
   "metadata": {},
   "outputs": [],
   "source": [
    "def create_dl_model():\n",
    "    model = Sequential()\n",
    "\n",
    "    # Adding the first LSTM layer\n",
    "    model.add(LSTM(units = 50, return_sequences = True, input_shape = (X_train.shape[1], 1)))\n",
    "\n",
    "    # Adding a second LSTM layer\n",
    "    model.add(LSTM(units = 50, return_sequences = True))\n",
    "    \n",
    "    # Adding a third LSTM layer\n",
    "    model.add(LSTM(units = 50, return_sequences = True))\n",
    "\n",
    "    # Adding a fourth LSTM layer\n",
    "    model.add(LSTM(units = 50))\n",
    "\n",
    "   # Adding the output layer\n",
    "    model.add(Dense(units = 1))\n",
    "    return model"
   ]
  },
  {
   "cell_type": "code",
   "execution_count": 58,
   "metadata": {},
   "outputs": [
    {
     "name": "stdout",
     "output_type": "stream",
     "text": [
      "Model: \"sequential_1\"\n",
      "_________________________________________________________________\n",
      "Layer (type)                 Output Shape              Param #   \n",
      "=================================================================\n",
      "lstm_1 (LSTM)                (None, 30, 50)            10400     \n",
      "_________________________________________________________________\n",
      "lstm_2 (LSTM)                (None, 30, 50)            20200     \n",
      "_________________________________________________________________\n",
      "lstm_3 (LSTM)                (None, 30, 50)            20200     \n",
      "_________________________________________________________________\n",
      "lstm_4 (LSTM)                (None, 50)                20200     \n",
      "_________________________________________________________________\n",
      "dense_1 (Dense)              (None, 1)                 51        \n",
      "=================================================================\n",
      "Total params: 71,051\n",
      "Trainable params: 71,051\n",
      "Non-trainable params: 0\n",
      "_________________________________________________________________\n"
     ]
    }
   ],
   "source": [
    "dl_model = create_dl_model()\n",
    "dl_model.summary()"
   ]
  },
  {
   "cell_type": "code",
   "execution_count": 59,
   "metadata": {},
   "outputs": [
    {
     "name": "stdout",
     "output_type": "stream",
     "text": [
      "Epoch 1/20\n",
      "Epoch 2/20\n",
      "Epoch 3/20\n",
      "Epoch 4/20\n",
      "Epoch 5/20\n",
      "Epoch 6/20\n",
      "Epoch 7/20\n",
      "Epoch 8/20\n",
      "Epoch 9/20\n",
      "Epoch 10/20\n",
      "Epoch 11/20\n",
      "Epoch 12/20\n",
      "Epoch 13/20\n",
      "Epoch 14/20\n",
      "Epoch 15/20\n",
      "Epoch 16/20\n",
      "Epoch 17/20\n",
      "Epoch 18/20\n",
      "Epoch 19/20\n",
      "Epoch 20/20\n"
     ]
    }
   ],
   "source": [
    "history = compile_and_run(dl_model, epochs=20)"
   ]
  },
  {
   "cell_type": "code",
   "execution_count": 60,
   "metadata": {},
   "outputs": [
    {
     "data": {
      "image/png": "[encoded data removed]",
      "text/plain": [
       "<Figure size 432x288 with 1 Axes>"
      ]
     },
     "metadata": {
      "needs_background": "light"
     },
     "output_type": "display_data"
    }
   ],
   "source": [
    "plot_metrics(history)"
   ]
  },
  {
   "cell_type": "code",
   "execution_count": 61,
   "metadata": {},
   "outputs": [
    {
     "data": {
      "image/png": "[encoded data removed]",
      "text/plain": [
       "<Figure size 432x288 with 1 Axes>"
      ]
     },
     "metadata": {
      "needs_background": "light"
     },
     "output_type": "display_data"
    }
   ],
   "source": [
    "make_predictions(X_test, dl_model)"
   ]
  },
  {
   "cell_type": "markdown",
   "metadata": {},
   "source": [
    "# Linear Regression"
   ]
  },
  {
   "cell_type": "markdown",
   "metadata": {},
   "source": [
    "# We will first sort the dataset in ascending order and then create a separate dataset so that any new feature created does not affect the original data."
   ]
  },
  {
   "cell_type": "code",
   "execution_count": 62,
   "metadata": {},
   "outputs": [
    {
     "data": {
      "text/html": [
       "<div>\n",
       "<style scoped>\n",
       "    .dataframe tbody tr th:only-of-type {\n",
       "        vertical-align: middle;\n",
       "    }\n",
       "\n",
       "    .dataframe tbody tr th {\n",
       "        vertical-align: top;\n",
       "    }\n",
       "\n",
       "    .dataframe thead th {\n",
       "        text-align: right;\n",
       "    }\n",
       "</style>\n",
       "<table border=\"1\" class=\"dataframe\">\n",
       "  <thead>\n",
       "    <tr style=\"text-align: right;\">\n",
       "      <th></th>\n",
       "      <th>High</th>\n",
       "      <th>Low</th>\n",
       "      <th>Close</th>\n",
       "      <th>Volume</th>\n",
       "    </tr>\n",
       "  </thead>\n",
       "  <tbody>\n",
       "    <tr>\n",
       "      <th>0</th>\n",
       "      <td>79.35</td>\n",
       "      <td>77.24</td>\n",
       "      <td>79.11</td>\n",
       "      <td>3117200</td>\n",
       "    </tr>\n",
       "    <tr>\n",
       "      <th>1</th>\n",
       "      <td>79.49</td>\n",
       "      <td>78.25</td>\n",
       "      <td>78.71</td>\n",
       "      <td>2558000</td>\n",
       "    </tr>\n",
       "    <tr>\n",
       "      <th>2</th>\n",
       "      <td>78.65</td>\n",
       "      <td>77.56</td>\n",
       "      <td>77.99</td>\n",
       "      <td>2529500</td>\n",
       "    </tr>\n",
       "    <tr>\n",
       "      <th>3</th>\n",
       "      <td>78.90</td>\n",
       "      <td>77.64</td>\n",
       "      <td>78.63</td>\n",
       "      <td>2479500</td>\n",
       "    </tr>\n",
       "    <tr>\n",
       "      <th>4</th>\n",
       "      <td>79.83</td>\n",
       "      <td>78.46</td>\n",
       "      <td>79.02</td>\n",
       "      <td>1845600</td>\n",
       "    </tr>\n",
       "  </tbody>\n",
       "</table>\n",
       "</div>"
      ],
      "text/plain": [
       "    High    Low  Close   Volume\n",
       "0  79.35  77.24  79.11  3117200\n",
       "1  79.49  78.25  78.71  2558000\n",
       "2  78.65  77.56  77.99  2529500\n",
       "3  78.90  77.64  78.63  2479500\n",
       "4  79.83  78.46  79.02  1845600"
      ]
     },
     "execution_count": 62,
     "metadata": {},
     "output_type": "execute_result"
    }
   ],
   "source": [
    "x = df.loc[:,'High':'Volume']\n",
    "y = df.loc[:,'Open']\n",
    "x.head()\n",
    "\n"
   ]
  },
  {
   "cell_type": "code",
   "execution_count": 63,
   "metadata": {},
   "outputs": [
    {
     "data": {
      "text/plain": [
       "0    77.76\n",
       "1    79.49\n",
       "2    78.41\n",
       "3    78.64\n",
       "4    78.50\n",
       "Name: Open, dtype: float64"
      ]
     },
     "execution_count": 63,
     "metadata": {},
     "output_type": "execute_result"
    }
   ],
   "source": [
    "y.head()"
   ]
  },
  {
   "cell_type": "code",
   "execution_count": 64,
   "metadata": {},
   "outputs": [],
   "source": [
    "from sklearn.model_selection import train_test_split\n",
    "x_train,x_test,y_train,y_test = train_test_split(x,y,test_size = 0.1,random_state = 0)"
   ]
  },
  {
   "cell_type": "code",
   "execution_count": 65,
   "metadata": {},
   "outputs": [],
   "source": [
    "LR = LinearRegression()"
   ]
  },
  {
   "cell_type": "code",
   "execution_count": 66,
   "metadata": {},
   "outputs": [
    {
     "data": {
      "text/plain": [
       "LinearRegression()"
      ]
     },
     "execution_count": 66,
     "metadata": {},
     "output_type": "execute_result"
    }
   ],
   "source": [
    "LR.fit(x_train,y_train)"
   ]
  },
  {
   "cell_type": "code",
   "execution_count": 67,
   "metadata": {},
   "outputs": [
    {
     "data": {
      "text/plain": [
       "0.9999574595345369"
      ]
     },
     "execution_count": 67,
     "metadata": {},
     "output_type": "execute_result"
    }
   ],
   "source": [
    "LR.score(x_test,y_test)"
   ]
  },
  {
   "cell_type": "markdown",
   "metadata": {},
   "source": []
  },
  {
   "cell_type": "code",
   "execution_count": 68,
   "metadata": {},
   "outputs": [],
   "source": [
    "Classifier = DecisionTreeRegressor()"
   ]
  },
  {
   "cell_type": "code",
   "execution_count": 69,
   "metadata": {},
   "outputs": [
    {
     "data": {
      "text/plain": [
       "DecisionTreeRegressor()"
      ]
     },
     "execution_count": 69,
     "metadata": {},
     "output_type": "execute_result"
    }
   ],
   "source": [
    "Classifier.fit(x_train,y_train)"
   ]
  },
  {
   "cell_type": "code",
   "execution_count": 70,
   "metadata": {},
   "outputs": [
    {
     "data": {
      "text/plain": [
       "0.9999051376477796"
      ]
     },
     "execution_count": 70,
     "metadata": {},
     "output_type": "execute_result"
    }
   ],
   "source": [
    "Classifier.score(x_test,y_test)"
   ]
  },
  {
   "cell_type": "code",
   "execution_count": null,
   "metadata": {},
   "outputs": [],
   "source": []
  },
  {
   "cell_type": "code",
   "execution_count": null,
   "metadata": {},
   "outputs": [],
   "source": []
  },
  {
   "cell_type": "code",
   "execution_count": null,
   "metadata": {},
   "outputs": [],
   "source": []
  },
  {
   "cell_type": "code",
   "execution_count": null,
   "metadata": {},
   "outputs": [],
   "source": []
  }
 ],
 "metadata": {
  "kernelspec": {
   "display_name": "Python 3",
   "language": "python",
   "name": "python3"
  },
  "language_info": {
   "codemirror_mode": {
    "name": "ipython",
    "version": 3
   },
   "file_extension": ".py",
   "mimetype": "text/x-python",
   "name": "python",
   "nbconvert_exporter": "python",
   "pygments_lexer": "ipython3",
   "version": "3.8.3"
  }
 },
 "nbformat": 4,
 "nbformat_minor": 4
}
